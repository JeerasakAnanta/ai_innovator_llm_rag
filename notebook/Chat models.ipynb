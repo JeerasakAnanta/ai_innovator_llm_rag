{
 "cells": [
  {
   "cell_type": "markdown",
   "id": "36d5e586",
   "metadata": {},
   "source": [
    "- Chat models"
   ]
  },
  {
   "cell_type": "code",
   "execution_count": 8,
   "id": "de3ed856",
   "metadata": {},
   "outputs": [],
   "source": [
    "!pip install -qU \"langchain[openai]\" -q \n",
    "!pip install python-dotenv -q "
   ]
  },
  {
   "cell_type": "code",
   "execution_count": null,
   "id": "bc558d32",
   "metadata": {},
   "outputs": [],
   "source": [
    "import  os \n",
    "from dotenv import load_dotenv\n",
    "\n",
    "# take environment variables\n",
    "load_dotenv()\n"
   ]
  },
  {
   "cell_type": "code",
   "execution_count": 15,
   "id": "e4d574e8",
   "metadata": {},
   "outputs": [],
   "source": [
    "import os\n",
    "\n",
    "if not os.environ.get(\"OPENAI_API_KEY\"):\n",
    "  os.environ[\"OPENAI_API_KEY\"] = os.getenv(\"OPENAI_API_KEY\")\n",
    "\n",
    "\n",
    "from langchain.chat_models import init_chat_model\n",
    "\n",
    "model = init_chat_model(\"gpt-4o-mini\", model_provider=\"openai\")"
   ]
  },
  {
   "cell_type": "code",
   "execution_count": null,
   "id": "88740db5",
   "metadata": {},
   "outputs": [
    {
     "data": {
      "text/plain": [
       "'Hello! How can I assist you today?'"
      ]
     },
     "execution_count": 18,
     "metadata": {},
     "output_type": "execute_result"
    }
   ],
   "source": [
    "#\n",
    "model.invoke('Hello').content"
   ]
  }
 ],
 "metadata": {
  "kernelspec": {
   "display_name": ".venv",
   "language": "python",
   "name": "python3"
  },
  "language_info": {
   "codemirror_mode": {
    "name": "ipython",
    "version": 3
   },
   "file_extension": ".py",
   "mimetype": "text/x-python",
   "name": "python",
   "nbconvert_exporter": "python",
   "pygments_lexer": "ipython3",
   "version": "3.10.0"
  }
 },
 "nbformat": 4,
 "nbformat_minor": 5
}
